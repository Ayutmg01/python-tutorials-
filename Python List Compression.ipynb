{
 "cells": [
  {
   "cell_type": "markdown",
   "id": "e546ccde",
   "metadata": {},
   "source": [
    "## Python list comprehension"
   ]
  },
  {
   "cell_type": "code",
   "execution_count": 9,
   "id": "00c45f32",
   "metadata": {},
   "outputs": [
    {
     "data": {
      "text/plain": [
       "list"
      ]
     },
     "execution_count": 9,
     "metadata": {},
     "output_type": "execute_result"
    }
   ],
   "source": [
    "type([1,2,3,4,5,5])"
   ]
  },
  {
   "cell_type": "code",
   "execution_count": 10,
   "id": "a4b6f4da",
   "metadata": {},
   "outputs": [
    {
     "name": "stdout",
     "output_type": "stream",
     "text": [
      "[0, 1, 2, 3, 4, 5, 6, 7]\n"
     ]
    }
   ],
   "source": [
    "lst=[]\n",
    "for i in range(0,8):\n",
    "    lst.append(i)\n",
    "print(lst)"
   ]
  },
  {
   "cell_type": "code",
   "execution_count": 11,
   "id": "aa7543e7",
   "metadata": {},
   "outputs": [
    {
     "name": "stdout",
     "output_type": "stream",
     "text": [
      "[1, 4, 9, 16, 25, 36]\n"
     ]
    }
   ],
   "source": [
    "lst=[1,2,3,4,5,6]\n",
    "lst2=[]\n",
    "for i in lst:\n",
    "    lst2.append(i**2)\n",
    "    \n",
    "print(lst2)"
   ]
  },
  {
   "cell_type": "code",
   "execution_count": 12,
   "id": "0c564445",
   "metadata": {},
   "outputs": [
    {
     "name": "stdout",
     "output_type": "stream",
     "text": [
      "[1, 4, 9, 16, 25]\n"
     ]
    }
   ],
   "source": [
    "numbers=[1,2,3,4,5]\n",
    "squad_numbers=[i**2 for i in numbers]\n",
    "print(squad_numbers)"
   ]
  },
  {
   "cell_type": "code",
   "execution_count": 15,
   "id": "9c5d4491",
   "metadata": {},
   "outputs": [
    {
     "name": "stdout",
     "output_type": "stream",
     "text": [
      "[2, 4, 6, 8, 10]\n"
     ]
    }
   ],
   "source": [
    "##dilterinf even numbers from a list:\n",
    "numbers = [1,2,3,4,5,6,7,8,9,10]\n",
    "even_numbers=[n for n in numbers if n%2==0]\n",
    "print(even_numbers)\n"
   ]
  },
  {
   "cell_type": "code",
   "execution_count": 20,
   "id": "8c871df7",
   "metadata": {},
   "outputs": [
    {
     "name": "stdout",
     "output_type": "stream",
     "text": [
      "[1, 2, 3, 4, 5, 6, 7, 8, 9]\n"
     ]
    }
   ],
   "source": [
    "##Flatining a list of lists:\n",
    "lists= [[1,2,3],[4,5,6],[7,8,9]]\n",
    "flattend_list =[item for sublist in lists for item in sublist]\n",
    "print(flattend_list)"
   ]
  },
  {
   "cell_type": "code",
   "execution_count": 22,
   "id": "816c2a73",
   "metadata": {},
   "outputs": [
    {
     "name": "stdout",
     "output_type": "stream",
     "text": [
      "['a', 'b', 'c', 'd']\n"
     ]
    }
   ],
   "source": [
    "#Generating a list of the first letter if words in a list:\n",
    "words= ['apple','banana','cherry','date']\n",
    "first_letter=[word[0] for word in words]\n",
    "print(first_letter)"
   ]
  },
  {
   "cell_type": "code",
   "execution_count": 23,
   "id": "d9d40dbd",
   "metadata": {},
   "outputs": [
    {
     "data": {
      "text/plain": [
       "[4, 16, 36, 64, 100]"
      ]
     },
     "execution_count": 23,
     "metadata": {},
     "output_type": "execute_result"
    }
   ],
   "source": [
    "##Genrating a list of the squares of even numbers\n",
    "numbers=[1,2,3,4,5,6,7,8,9,10]\n",
    "[n**2 for n in numbers if n%2==0 ]"
   ]
  },
  {
   "cell_type": "code",
   "execution_count": 24,
   "id": "b8150d29",
   "metadata": {},
   "outputs": [
    {
     "data": {
      "text/plain": [
       "[1, 2, 3, 4, 5]"
      ]
     },
     "execution_count": 24,
     "metadata": {},
     "output_type": "execute_result"
    }
   ],
   "source": [
    "##Converting a list of strings to a list of integers \n",
    "strings=['1','2','3','4','5']\n",
    "[int(s) for s in strings]"
   ]
  },
  {
   "cell_type": "code",
   "execution_count": 25,
   "id": "a7d25594",
   "metadata": {},
   "outputs": [
    {
     "data": {
      "text/plain": [
       "[1,\n",
       " 2,\n",
       " 3,\n",
       " 5,\n",
       " 8,\n",
       " 13,\n",
       " 21,\n",
       " 34,\n",
       " 55,\n",
       " 89,\n",
       " 144,\n",
       " 233,\n",
       " 377,\n",
       " 610,\n",
       " 987,\n",
       " 1597,\n",
       " 2584,\n",
       " 4181,\n",
       " 6765]"
      ]
     },
     "execution_count": 25,
     "metadata": {},
     "output_type": "execute_result"
    }
   ],
   "source": [
    "##fibonacci sequence using a list comprehension\n",
    "fib = [0, 1, 1, 2, 3, 5, 8, 13, 21, 34, 55, 89, 144, 233, 377, 610, 987, 1597, 2584, 4181, 6765]\n",
    "\n",
    "[fib[i-1]+ fib[i-2] for i in range(2,len(fib))]"
   ]
  },
  {
   "cell_type": "code",
   "execution_count": 26,
   "id": "f52c9c16",
   "metadata": {},
   "outputs": [
    {
     "data": {
      "text/plain": [
       "[1, 2, 3, 4, 6, 9, 12, 18, 36]"
      ]
     },
     "execution_count": 26,
     "metadata": {},
     "output_type": "execute_result"
    }
   ],
   "source": [
    "##Generating a list of all the divisors of a number:\n",
    "\n",
    "number =36\n",
    "[i for i in range(1,number+1) if number%i==0]"
   ]
  },
  {
   "cell_type": "code",
   "execution_count": 27,
   "id": "cde24b78",
   "metadata": {},
   "outputs": [
    {
     "data": {
      "text/plain": [
       "[1, 2, 3, 4, 6, 9, 12, 18, 36]"
      ]
     },
     "execution_count": 27,
     "metadata": {},
     "output_type": "execute_result"
    }
   ],
   "source": [
    "##Generating a list of all the divisors of a number:\n",
    "\n",
    "number =36\n",
    "[i for i in range(1,number+1) if number%i==0]"
   ]
  },
  {
   "cell_type": "code",
   "execution_count": 28,
   "id": "8e75de24",
   "metadata": {},
   "outputs": [
    {
     "name": "stdout",
     "output_type": "stream",
     "text": [
      "[2, 3, 5, 7, 11, 13, 17, 19, 23, 29, 31, 37, 41, 43, 47]\n"
     ]
    }
   ],
   "source": [
    "## Generating a list of all the prime numbers less than a given number:\n",
    "number = 50\n",
    "primes = [i for i in range(2, number) if all(i % j != 0 for j in range(2, int(i**0.5) + 1))]\n",
    "print(primes)"
   ]
  },
  {
   "cell_type": "code",
   "execution_count": null,
   "id": "6573b433",
   "metadata": {},
   "outputs": [],
   "source": []
  }
 ],
 "metadata": {
  "kernelspec": {
   "display_name": "Python 3 (ipykernel)",
   "language": "python",
   "name": "python3"
  },
  "language_info": {
   "codemirror_mode": {
    "name": "ipython",
    "version": 3
   },
   "file_extension": ".py",
   "mimetype": "text/x-python",
   "name": "python",
   "nbconvert_exporter": "python",
   "pygments_lexer": "ipython3",
   "version": "3.11.5"
  }
 },
 "nbformat": 4,
 "nbformat_minor": 5
}
