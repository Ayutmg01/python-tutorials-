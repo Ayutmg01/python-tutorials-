{
 "cells": [
  {
   "cell_type": "markdown",
   "id": "93f843b1",
   "metadata": {},
   "source": [
    "## Python Data Classes\n",
    "In Python, the dataclass decorator is a feature introduced in Python 3.7 that provides a concise way to define classes primarily intended to store data. It automatically generates several special methods, such as init, repr, and eq, based on the class attributes you define. This simplifies the process of creating and working with data-focused classes."
   ]
  },
  {
   "cell_type": "code",
   "execution_count": 1,
   "id": "94112626",
   "metadata": {},
   "outputs": [],
   "source": [
    "from dataclasses import dataclass\n",
    "\n",
    "@dataclass\n",
    "class Person:\n",
    "    name:str\n",
    "    age:int\n",
    "    profession:str"
   ]
  },
  {
   "cell_type": "markdown",
   "id": "bb5437ae",
   "metadata": {},
   "source": [
    "The @dataclass decorator automatically generates the following methods for you:\n",
    "\n",
    "    1.init(): Initializes the object and assigns the provided values to the attributes.\n",
    "\n",
    "    2.repr(): Provides a string representation of the object.\n",
    "\n",
    "    3.eq(): Implements equality comparison between two objects of the class based on their attributes."
   ]
  },
  {
   "cell_type": "code",
   "execution_count": 3,
   "id": "f8707ac0",
   "metadata": {},
   "outputs": [
    {
     "data": {
      "text/plain": [
       "Person(name='atg', age=22, profession='SE')"
      ]
     },
     "execution_count": 3,
     "metadata": {},
     "output_type": "execute_result"
    }
   ],
   "source": [
    "person1=Person('atg',22,'SE')\n",
    "person1"
   ]
  },
  {
   "cell_type": "code",
   "execution_count": 5,
   "id": "44e73fd5",
   "metadata": {},
   "outputs": [
    {
     "data": {
      "text/plain": [
       "22"
      ]
     },
     "execution_count": 5,
     "metadata": {},
     "output_type": "execute_result"
    }
   ],
   "source": [
    "person1.age"
   ]
  },
  {
   "cell_type": "code",
   "execution_count": 6,
   "id": "93c6f809",
   "metadata": {},
   "outputs": [],
   "source": [
    "@dataclass\n",
    "class Rectangle:\n",
    "    width:int\n",
    "    height:int\n",
    "    color:str='white'\n",
    "\n",
    "rectangle1=Rectangle(12,14)\n",
    "rectangle2=Rectangle(13,14,'red')"
   ]
  },
  {
   "cell_type": "code",
   "execution_count": 7,
   "id": "6e75fa5a",
   "metadata": {},
   "outputs": [
    {
     "data": {
      "text/plain": [
       "'red'"
      ]
     },
     "execution_count": 7,
     "metadata": {},
     "output_type": "execute_result"
    }
   ],
   "source": [
    "rectangle2.color"
   ]
  },
  {
   "cell_type": "code",
   "execution_count": 8,
   "id": "041180d2",
   "metadata": {},
   "outputs": [],
   "source": [
    "@dataclass(frozen=True)\n",
    "class Point:\n",
    "    x:int\n",
    "    y:int"
   ]
  },
  {
   "cell_type": "code",
   "execution_count": 10,
   "id": "29b6df99",
   "metadata": {},
   "outputs": [],
   "source": [
    "point=Point(3,4)"
   ]
  },
  {
   "cell_type": "code",
   "execution_count": 11,
   "id": "b4f97974",
   "metadata": {},
   "outputs": [
    {
     "data": {
      "text/plain": [
       "(3, 4)"
      ]
     },
     "execution_count": 11,
     "metadata": {},
     "output_type": "execute_result"
    }
   ],
   "source": [
    "point.x,point.y"
   ]
  },
  {
   "cell_type": "code",
   "execution_count": 13,
   "id": "d89ae06a",
   "metadata": {},
   "outputs": [
    {
     "ename": "FrozenInstanceError",
     "evalue": "cannot assign to field 'x'",
     "output_type": "error",
     "traceback": [
      "\u001b[1;31m---------------------------------------------------------------------------\u001b[0m",
      "\u001b[1;31mFrozenInstanceError\u001b[0m                       Traceback (most recent call last)",
      "Cell \u001b[1;32mIn[13], line 1\u001b[0m\n\u001b[1;32m----> 1\u001b[0m point\u001b[38;5;241m.\u001b[39mx\u001b[38;5;241m=\u001b[39m\u001b[38;5;241m12\u001b[39m\n",
      "File \u001b[1;32m<string>:4\u001b[0m, in \u001b[0;36m__setattr__\u001b[1;34m(self, name, value)\u001b[0m\n",
      "\u001b[1;31mFrozenInstanceError\u001b[0m: cannot assign to field 'x'"
     ]
    }
   ],
   "source": [
    "point.x=12"
   ]
  },
  {
   "cell_type": "code",
   "execution_count": 14,
   "id": "053c59af",
   "metadata": {},
   "outputs": [],
   "source": [
    "## inheritance \n",
    "\n",
    "@dataclass\n",
    "class Person:\n",
    "    name:str\n",
    "    age:int\n",
    "\n",
    "@dataclass\n",
    "class Employee(Person):\n",
    "    employee_id:str\n",
    "    department:str"
   ]
  },
  {
   "cell_type": "code",
   "execution_count": 16,
   "id": "a3ba88dd",
   "metadata": {},
   "outputs": [],
   "source": [
    "person=Person('atg',31)\n",
    "employee=Employee(\"atg\",22,'123','AI')"
   ]
  },
  {
   "cell_type": "code",
   "execution_count": 17,
   "id": "94025ec2",
   "metadata": {},
   "outputs": [
    {
     "data": {
      "text/plain": [
       "'atg'"
      ]
     },
     "execution_count": 17,
     "metadata": {},
     "output_type": "execute_result"
    }
   ],
   "source": [
    "employee.name"
   ]
  },
  {
   "cell_type": "code",
   "execution_count": 18,
   "id": "ae7f8936",
   "metadata": {},
   "outputs": [],
   "source": [
    "## Nested Dataclasses\n",
    "\n",
    "@dataclass\n",
    "class Address:\n",
    "    street:str\n",
    "    city:str\n",
    "    zip_code:str\n",
    "\n",
    "@dataclass\n",
    "class Person:\n",
    "    name:str\n",
    "    age:str\n",
    "    address:Address"
   ]
  },
  {
   "cell_type": "code",
   "execution_count": 20,
   "id": "bdbf1819",
   "metadata": {},
   "outputs": [],
   "source": [
    "address=Address('123 MAin street','kathmandu','12345')\n",
    "person=Person(\"atg\",22,address)"
   ]
  },
  {
   "cell_type": "code",
   "execution_count": 21,
   "id": "6d75ad3a",
   "metadata": {},
   "outputs": [
    {
     "data": {
      "text/plain": [
       "'kathmandu'"
      ]
     },
     "execution_count": 21,
     "metadata": {},
     "output_type": "execute_result"
    }
   ],
   "source": [
    "person.address.city"
   ]
  },
  {
   "cell_type": "code",
   "execution_count": null,
   "id": "f8608af6",
   "metadata": {},
   "outputs": [],
   "source": []
  }
 ],
 "metadata": {
  "kernelspec": {
   "display_name": "Python 3 (ipykernel)",
   "language": "python",
   "name": "python3"
  },
  "language_info": {
   "codemirror_mode": {
    "name": "ipython",
    "version": 3
   },
   "file_extension": ".py",
   "mimetype": "text/x-python",
   "name": "python",
   "nbconvert_exporter": "python",
   "pygments_lexer": "ipython3",
   "version": "3.11.5"
  }
 },
 "nbformat": 4,
 "nbformat_minor": 5
}
