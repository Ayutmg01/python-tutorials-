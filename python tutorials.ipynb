{
 "cells": [
  {
   "cell_type": "markdown",
   "id": "34e33ac4",
   "metadata": {},
   "source": [
    "## This the first learning video tutorial\n",
    "--> (python playlist vid -01)"
   ]
  },
  {
   "cell_type": "code",
   "execution_count": 1,
   "id": "1b8749a7",
   "metadata": {},
   "outputs": [
    {
     "data": {
      "text/plain": [
       "3"
      ]
     },
     "execution_count": 1,
     "metadata": {},
     "output_type": "execute_result"
    }
   ],
   "source": [
    "1+2"
   ]
  },
  {
   "cell_type": "code",
   "execution_count": 2,
   "id": "ebe69ed6",
   "metadata": {},
   "outputs": [],
   "source": [
    "a=10"
   ]
  },
  {
   "cell_type": "code",
   "execution_count": 3,
   "id": "a44fbccb",
   "metadata": {},
   "outputs": [
    {
     "name": "stdout",
     "output_type": "stream",
     "text": [
      "15\n"
     ]
    }
   ],
   "source": [
    "print(a+5)"
   ]
  },
  {
   "cell_type": "code",
   "execution_count": 4,
   "id": "0b2f6491",
   "metadata": {},
   "outputs": [
    {
     "name": "stdout",
     "output_type": "stream",
     "text": [
      "The Zen of Python, by Tim Peters\n",
      "\n",
      "Beautiful is better than ugly.\n",
      "Explicit is better than implicit.\n",
      "Simple is better than complex.\n",
      "Complex is better than complicated.\n",
      "Flat is better than nested.\n",
      "Sparse is better than dense.\n",
      "Readability counts.\n",
      "Special cases aren't special enough to break the rules.\n",
      "Although practicality beats purity.\n",
      "Errors should never pass silently.\n",
      "Unless explicitly silenced.\n",
      "In the face of ambiguity, refuse the temptation to guess.\n",
      "There should be one-- and preferably only one --obvious way to do it.\n",
      "Although that way may not be obvious at first unless you're Dutch.\n",
      "Now is better than never.\n",
      "Although never is often better than *right* now.\n",
      "If the implementation is hard to explain, it's a bad idea.\n",
      "If the implementation is easy to explain, it may be a good idea.\n",
      "Namespaces are one honking great idea -- let's do more of those!\n"
     ]
    }
   ],
   "source": [
    "import this"
   ]
  },
  {
   "cell_type": "markdown",
   "id": "9cb6ed33",
   "metadata": {},
   "source": [
    "## python playlist vid-02"
   ]
  },
  {
   "cell_type": "code",
   "execution_count": 8,
   "id": "3e236ef0",
   "metadata": {},
   "outputs": [
    {
     "name": "stdout",
     "output_type": "stream",
     "text": [
      "hello world\n",
      "day 2 of learning utsav\n"
     ]
    }
   ],
   "source": [
    "print(\"hello world\")\n",
    "print(\"day 2 of learning utsav\")"
   ]
  },
  {
   "cell_type": "code",
   "execution_count": 21,
   "id": "9996c690",
   "metadata": {},
   "outputs": [
    {
     "name": "stdout",
     "output_type": "stream",
     "text": [
      "hello\n"
     ]
    }
   ],
   "source": [
    "# single line and multiline comments\n",
    "'''\n",
    "lets make this festive vacation \n",
    "fruitful\n",
    "'''\n",
    "print(\"hello\")"
   ]
  },
  {
   "cell_type": "code",
   "execution_count": 23,
   "id": "53af34b4",
   "metadata": {},
   "outputs": [
    {
     "data": {
      "text/plain": [
       "int"
      ]
     },
     "execution_count": 23,
     "metadata": {},
     "output_type": "execute_result"
    }
   ],
   "source": [
    "# varaible decaration \n",
    "a=10\n",
    "type(a)"
   ]
  },
  {
   "cell_type": "code",
   "execution_count": 24,
   "id": "15e0e461",
   "metadata": {},
   "outputs": [
    {
     "data": {
      "text/plain": [
       "10"
      ]
     },
     "execution_count": 24,
     "metadata": {},
     "output_type": "execute_result"
    }
   ],
   "source": [
    "a"
   ]
  },
  {
   "cell_type": "code",
   "execution_count": 26,
   "id": "de59757c",
   "metadata": {},
   "outputs": [],
   "source": [
    "hi=10\n",
    "b=60\n",
    "c=\"atg\""
   ]
  },
  {
   "cell_type": "code",
   "execution_count": 27,
   "id": "d16c1e9c",
   "metadata": {},
   "outputs": [
    {
     "data": {
      "text/plain": [
       "str"
      ]
     },
     "execution_count": 27,
     "metadata": {},
     "output_type": "execute_result"
    }
   ],
   "source": [
    "type(c)"
   ]
  },
  {
   "cell_type": "code",
   "execution_count": 31,
   "id": "9c43cb93",
   "metadata": {},
   "outputs": [],
   "source": [
    "d1= 22"
   ]
  },
  {
   "cell_type": "code",
   "execution_count": 33,
   "id": "4bc84493",
   "metadata": {},
   "outputs": [
    {
     "name": "stdout",
     "output_type": "stream",
     "text": [
      "Ayush\n"
     ]
    }
   ],
   "source": [
    "first_name=\"Ayush\"\n",
    "print(first_name)"
   ]
  },
  {
   "cell_type": "code",
   "execution_count": 35,
   "id": "e94d2985",
   "metadata": {},
   "outputs": [
    {
     "name": "stdout",
     "output_type": "stream",
     "text": [
      "-10\n"
     ]
    }
   ],
   "source": [
    "a=10\n",
    "b=20\n",
    "print(a-b)"
   ]
  },
  {
   "cell_type": "code",
   "execution_count": 37,
   "id": "c9a1a291",
   "metadata": {},
   "outputs": [
    {
     "data": {
      "text/plain": [
       "float"
      ]
     },
     "execution_count": 37,
     "metadata": {},
     "output_type": "execute_result"
    }
   ],
   "source": [
    "# typecast converting floating number into integer\n",
    "a=25.364\n",
    "type(a)"
   ]
  },
  {
   "cell_type": "code",
   "execution_count": 38,
   "id": "14aaf407",
   "metadata": {},
   "outputs": [
    {
     "data": {
      "text/plain": [
       "25"
      ]
     },
     "execution_count": 38,
     "metadata": {},
     "output_type": "execute_result"
    }
   ],
   "source": [
    "int(a)"
   ]
  },
  {
   "cell_type": "code",
   "execution_count": 39,
   "id": "144a2c23",
   "metadata": {},
   "outputs": [
    {
     "data": {
      "text/plain": [
       "25.364"
      ]
     },
     "execution_count": 39,
     "metadata": {},
     "output_type": "execute_result"
    }
   ],
   "source": [
    "a"
   ]
  },
  {
   "cell_type": "code",
   "execution_count": 40,
   "id": "46ec7ac7",
   "metadata": {},
   "outputs": [
    {
     "data": {
      "text/plain": [
       "20"
      ]
     },
     "execution_count": 40,
     "metadata": {},
     "output_type": "execute_result"
    }
   ],
   "source": [
    "b"
   ]
  },
  {
   "cell_type": "code",
   "execution_count": 41,
   "id": "ae517650",
   "metadata": {},
   "outputs": [
    {
     "data": {
      "text/plain": [
       "20.0"
      ]
     },
     "execution_count": 41,
     "metadata": {},
     "output_type": "execute_result"
    }
   ],
   "source": [
    "float(b)"
   ]
  },
  {
   "cell_type": "code",
   "execution_count": 43,
   "id": "c3a9b789",
   "metadata": {},
   "outputs": [],
   "source": [
    "#boolean\n",
    "a1=True\n",
    "b1=False"
   ]
  },
  {
   "cell_type": "code",
   "execution_count": 44,
   "id": "7f79f7f2",
   "metadata": {},
   "outputs": [
    {
     "data": {
      "text/plain": [
       "bool"
      ]
     },
     "execution_count": 44,
     "metadata": {},
     "output_type": "execute_result"
    }
   ],
   "source": [
    "type(a1)"
   ]
  },
  {
   "cell_type": "code",
   "execution_count": 45,
   "id": "dfa1c279",
   "metadata": {},
   "outputs": [
    {
     "data": {
      "text/plain": [
       "False"
      ]
     },
     "execution_count": 45,
     "metadata": {},
     "output_type": "execute_result"
    }
   ],
   "source": [
    "a1 and b1"
   ]
  },
  {
   "cell_type": "code",
   "execution_count": 46,
   "id": "0f546a04",
   "metadata": {},
   "outputs": [
    {
     "data": {
      "text/plain": [
       "True"
      ]
     },
     "execution_count": 46,
     "metadata": {},
     "output_type": "execute_result"
    }
   ],
   "source": [
    "a1|b1"
   ]
  },
  {
   "cell_type": "code",
   "execution_count": 48,
   "id": "f555ef65",
   "metadata": {},
   "outputs": [
    {
     "name": "stdout",
     "output_type": "stream",
     "text": [
      "hancy\n",
      "<class 'str'>\n"
     ]
    }
   ],
   "source": [
    "#stings\n",
    "name1=\"hancy\"\n",
    "print(name1)\n",
    "print(type(name1))"
   ]
  },
  {
   "cell_type": "code",
   "execution_count": 49,
   "id": "3301a164",
   "metadata": {},
   "outputs": [
    {
     "data": {
      "text/plain": [
       "'hancyguffadi'"
      ]
     },
     "execution_count": 49,
     "metadata": {},
     "output_type": "execute_result"
    }
   ],
   "source": [
    "name1+\"guffadi\""
   ]
  },
  {
   "cell_type": "code",
   "execution_count": 50,
   "id": "7eb7ec4b",
   "metadata": {},
   "outputs": [
    {
     "data": {
      "text/plain": [
       "'hancy1'"
      ]
     },
     "execution_count": 50,
     "metadata": {},
     "output_type": "execute_result"
    }
   ],
   "source": [
    "name1+str(1)"
   ]
  },
  {
   "cell_type": "code",
   "execution_count": 2,
   "id": "91094bdd",
   "metadata": {},
   "outputs": [
    {
     "data": {
      "text/plain": [
       "(1-2.3j)"
      ]
     },
     "execution_count": 2,
     "metadata": {},
     "output_type": "execute_result"
    }
   ],
   "source": [
    "#complex numbers\n",
    "j=1.0-2.3j\n",
    "j"
   ]
  },
  {
   "cell_type": "code",
   "execution_count": 3,
   "id": "881de61f",
   "metadata": {},
   "outputs": [
    {
     "name": "stdout",
     "output_type": "stream",
     "text": [
      "1.0 -2.3\n"
     ]
    }
   ],
   "source": [
    "print(j.real,j.imag)"
   ]
  },
  {
   "cell_type": "code",
   "execution_count": 4,
   "id": "504d6c90",
   "metadata": {},
   "outputs": [],
   "source": [
    "#Dynamic typing \n",
    "a =10\n",
    "a='ayush'"
   ]
  },
  {
   "cell_type": "code",
   "execution_count": 6,
   "id": "a532a5df",
   "metadata": {},
   "outputs": [
    {
     "name": "stdout",
     "output_type": "stream",
     "text": [
      "<class 'str'>\n"
     ]
    }
   ],
   "source": [
    "print(type(a))"
   ]
  },
  {
   "cell_type": "code",
   "execution_count": 7,
   "id": "c1e727bc",
   "metadata": {},
   "outputs": [],
   "source": [
    "#strong typing\n",
    "a=\"Hello\""
   ]
  },
  {
   "cell_type": "code",
   "execution_count": 8,
   "id": "85453a40",
   "metadata": {},
   "outputs": [
    {
     "data": {
      "text/plain": [
       "'Hello1'"
      ]
     },
     "execution_count": 8,
     "metadata": {},
     "output_type": "execute_result"
    }
   ],
   "source": [
    "a+ \"1\""
   ]
  },
  {
   "cell_type": "code",
   "execution_count": 10,
   "id": "a6c4a631",
   "metadata": {},
   "outputs": [
    {
     "name": "stdout",
     "output_type": "stream",
     "text": [
      "the value is= 100\n"
     ]
    }
   ],
   "source": [
    "#string formating\n",
    "a =100 \n",
    "print(\"the value is=\",a)"
   ]
  },
  {
   "cell_type": "code",
   "execution_count": 15,
   "id": "96672b25",
   "metadata": {},
   "outputs": [
    {
     "name": "stdout",
     "output_type": "stream",
     "text": [
      "The first name is Ayush and last name is Tamang\n"
     ]
    }
   ],
   "source": [
    "first_name=\"Ayush\"\n",
    "last_name=\"Tamang\"\n",
    "print(\"The first name is {0} and last name is {1}\".format(first_name,last_name))"
   ]
  },
  {
   "cell_type": "code",
   "execution_count": 16,
   "id": "c503d170",
   "metadata": {},
   "outputs": [
    {
     "name": "stdout",
     "output_type": "stream",
     "text": [
      "The first name is Tamang and last name is Ayush\n"
     ]
    }
   ],
   "source": [
    "print(\"The first name is {1} and last name is {0}\".format(first_name,last_name))"
   ]
  },
  {
   "cell_type": "code",
   "execution_count": 17,
   "id": "b5d007c7",
   "metadata": {
    "scrolled": true
   },
   "outputs": [
    {
     "name": "stdout",
     "output_type": "stream",
     "text": [
      "The first name is Ayush and last name is Tamang\n"
     ]
    }
   ],
   "source": [
    "print(\"The first name is {a} and last name is {b}\".format(a=first_name, b=last_name))"
   ]
  },
  {
   "cell_type": "code",
   "execution_count": 1,
   "id": "354b4eae",
   "metadata": {},
   "outputs": [
    {
     "name": "stdout",
     "output_type": "stream",
     "text": [
      "enter the number A 45\n",
      "enter the number B 54\n",
      "99\n"
     ]
    }
   ],
   "source": [
    "# input type\n",
    "a=input(\"enter the number A \")\n",
    "b= input(\"enter the number B \")\n",
    "print(int(a)+int(b))"
   ]
  },
  {
   "cell_type": "markdown",
   "id": "f0aaf257",
   "metadata": {},
   "source": [
    "# python playlist vid- 03"
   ]
  },
  {
   "cell_type": "code",
   "execution_count": 8,
   "id": "855e3192",
   "metadata": {},
   "outputs": [
    {
     "name": "stdout",
     "output_type": "stream",
     "text": [
      "Enter the number45\n",
      "the number is odd\n"
     ]
    }
   ],
   "source": [
    "# if else statement \n",
    "val=input(\"Enter the number\")\n",
    "value_float=float(val)\n",
    "if(value_float%2 == 0):\n",
    "    print(\"The number is even\")\n",
    "else:\n",
    "    print(\"the number is odd\")"
   ]
  },
  {
   "cell_type": "code",
   "execution_count": 10,
   "id": "22a42a7d",
   "metadata": {},
   "outputs": [
    {
     "name": "stdout",
     "output_type": "stream",
     "text": [
      "Enter the age33\n",
      "Mid Age\n"
     ]
    }
   ],
   "source": [
    "## Age form\n",
    "##nested if else condition\n",
    "age= float(input(\"Enter the age\"))\n",
    "\n",
    "if(age<18):\n",
    "    print(\"Minor Age\")\n",
    "elif(age>18 and age<=35):\n",
    "    print(\"Mid Age\")\n",
    "elif(age>45 and age<=50):\n",
    "    print(\"senior Mid Age\")\n",
    "else:\n",
    "    print(\"Senior Citizen\")"
   ]
  },
  {
   "cell_type": "code",
   "execution_count": 12,
   "id": "b012efc7",
   "metadata": {},
   "outputs": [
    {
     "name": "stdout",
     "output_type": "stream",
     "text": [
      "Enter the age17\n",
      "Minor Age\n",
      "you are in college\n"
     ]
    }
   ],
   "source": [
    "##nested if else\n",
    "age= float(input(\"Enter the age\"))\n",
    "\n",
    "if(age<18):\n",
    "    print(\"Minor Age\")\n",
    "    if(age<15):\n",
    "        print(\"your are in School\")\n",
    "    else:\n",
    "        print(\"you are in college\")\n",
    "elif(age>18 and age<=35):\n",
    "    print(\"Mid Age\")\n",
    "elif(age>45 and age<=50):\n",
    "    print(\"senior Mid Age\")\n",
    "else:\n",
    "    print(\"Senior Citizen\")"
   ]
  },
  {
   "cell_type": "code",
   "execution_count": null,
   "id": "57323579",
   "metadata": {},
   "outputs": [],
   "source": []
  },
  {
   "cell_type": "code",
   "execution_count": null,
   "id": "18fdc335",
   "metadata": {},
   "outputs": [],
   "source": []
  },
  {
   "cell_type": "code",
   "execution_count": null,
   "id": "5c3f1c78",
   "metadata": {},
   "outputs": [],
   "source": []
  }
 ],
 "metadata": {
  "kernelspec": {
   "display_name": "Python 3 (ipykernel)",
   "language": "python",
   "name": "python3"
  },
  "language_info": {
   "codemirror_mode": {
    "name": "ipython",
    "version": 3
   },
   "file_extension": ".py",
   "mimetype": "text/x-python",
   "name": "python",
   "nbconvert_exporter": "python",
   "pygments_lexer": "ipython3",
   "version": "3.11.5"
  }
 },
 "nbformat": 4,
 "nbformat_minor": 5
}
